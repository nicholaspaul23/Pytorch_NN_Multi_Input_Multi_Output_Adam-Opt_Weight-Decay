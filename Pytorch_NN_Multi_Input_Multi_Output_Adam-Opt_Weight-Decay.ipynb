{
 "cells": [
  {
   "cell_type": "code",
   "execution_count": 1,
   "id": "c90f293d",
   "metadata": {
    "collapsed": true
   },
   "outputs": [
    {
     "data": {
      "text/plain": [
       "[<matplotlib.lines.Line2D at 0x1bb5c145d60>]"
      ]
     },
     "execution_count": 1,
     "metadata": {},
     "output_type": "execute_result"
    },
    {
     "data": {
      "image/png": "[encoded data removed]",
      "text/plain": [
       "<Figure size 432x288 with 1 Axes>"
      ]
     },
     "metadata": {
      "needs_background": "light"
     },
     "output_type": "display_data"
    }
   ],
   "source": [
    "import matplotlib.pyplot as plt\n",
    "plt.plot(1,1)"
   ]
  },
  {
   "cell_type": "code",
   "execution_count": 9,
   "id": "5a33e9df",
   "metadata": {},
   "outputs": [],
   "source": [
    "import torch\n",
    "import torch.nn as nn\n",
    "\n",
    "class LR(nn.Module):\n",
    "    def __init__(self,in_size,out_size):\n",
    "        super(LR,self).__init__()\n",
    "        self.linear = nn.Linear(in_size,out_size)\n",
    "        \n",
    "    def forward(self,x):\n",
    "        return self.linear(x)"
   ]
  },
  {
   "cell_type": "code",
   "execution_count": 20,
   "id": "6619671f",
   "metadata": {},
   "outputs": [],
   "source": [
    "from torch.utils.data import Dataset, DataLoader\n",
    "\n",
    "class Data2D(Dataset):\n",
    "    def __init__(self, y_validate_var=None):\n",
    "        self.x = torch.zeros(50,2)\n",
    "        self.x[:,0] = torch.arange(-2,3,0.1)\n",
    "        self.x[:,1] = torch.arange(-1,4,0.1)\n",
    "        self.w_f = torch.tensor([[-0.83,0.3],[0.4,-0.5]])\n",
    "        self.b_f = torch.tensor([[0.9,-0.8]])\n",
    "        self.f = torch.mm(self.x,self.w_f) + self.b_f\n",
    "        self.y = self.f + 0.4 * torch.randn((self.x.shape[0],1))\n",
    "        self.len = self.x.shape[0]\n",
    "        if y_validate_var is not None:\n",
    "            self.y = self.f + y_validate_var * torch.randn((self.x.shape[0],1))\n",
    "    \n",
    "    def __getitem__(self,index):\n",
    "        return self.x[index], self.y[index]\n",
    "    \n",
    "    def __len__(self):\n",
    "        return self.len"
   ]
  },
  {
   "cell_type": "code",
   "execution_count": 14,
   "id": "21ba5fd2",
   "metadata": {},
   "outputs": [],
   "source": [
    "from torch import optim\n",
    "\n",
    "data = Data2D()\n",
    "criterion = nn.MSELoss()\n",
    "trainloader = DataLoader(dataset=data, batch_size=5)\n",
    "model = LR(in_size=2, out_size=2)\n",
    "optimizer = optim.Adam(model.parameters(), lr=0.01, weight_decay=0.01)"
   ]
  },
  {
   "cell_type": "code",
   "execution_count": 18,
   "id": "c8b744ec",
   "metadata": {},
   "outputs": [
    {
     "name": "stdout",
     "output_type": "stream",
     "text": [
      "Epoch 0 Cost: 2.553578817844391\n",
      "Epoch 1 Cost: 2.2844720840454102\n",
      "Epoch 2 Cost: 2.0486187001069385\n",
      "Epoch 3 Cost: 1.8428387761116027\n",
      "Epoch 4 Cost: 1.6639378261566162\n"
     ]
    }
   ],
   "source": [
    "from statistics import mean \n",
    "Loss = []\n",
    "\n",
    "for epoch in range(5):\n",
    "    for x,y in trainloader:\n",
    "        y_hat = model(x)\n",
    "        loss = criterion(y_hat,y)\n",
    "        Loss.append(loss.item())\n",
    "        optimizer.zero_grad()\n",
    "        loss.backward()\n",
    "        optimizer.step()\n",
    "    Cost = mean(Loss)\n",
    "    print(f\"Epoch {epoch} Cost: {Cost}\")"
   ]
  },
  {
   "cell_type": "code",
   "execution_count": 22,
   "id": "585522d9",
   "metadata": {},
   "outputs": [],
   "source": [
    "valData = Data2D(y_validate_var=0.5)"
   ]
  },
  {
   "cell_type": "code",
   "execution_count": 24,
   "id": "c2b202e6",
   "metadata": {},
   "outputs": [
    {
     "name": "stdout",
     "output_type": "stream",
     "text": [
      "weight_decay: 0.01 epoch: 0 train_cost: 1.8249959170818328 val_loss: 1.7239489555358887\n",
      "weight_decay: 0.01 epoch: 1 train_cost: 1.3221336632966996 val_loss: 1.303238034248352\n",
      "weight_decay: 0.01 epoch: 2 train_cost: 0.9888609608635306 val_loss: 1.0174896717071533\n",
      "weight_decay: 0.01 epoch: 3 train_cost: 0.7780879180878401 val_loss: 0.8403263092041016\n",
      "weight_decay: 0.01 epoch: 4 train_cost: 0.6488639906048774 val_loss: 0.7312026023864746\n",
      "weight_decay: 0.05 epoch: 0 train_cost: 0.9194390058517456 val_loss: 0.9155962467193604\n",
      "weight_decay: 0.05 epoch: 1 train_cost: 0.6278515189886094 val_loss: 0.6892339587211609\n",
      "weight_decay: 0.05 epoch: 2 train_cost: 0.4552434101700783 val_loss: 0.539667010307312\n",
      "weight_decay: 0.05 epoch: 3 train_cost: 0.3533885322511196 val_loss: 0.45114216208457947\n",
      "weight_decay: 0.05 epoch: 4 train_cost: 0.2956786207854748 val_loss: 0.3992847800254822\n",
      "weight_decay: 0.1 epoch: 0 train_cost: 3.0836119025945665 val_loss: 2.8457512855529785\n",
      "weight_decay: 0.1 epoch: 1 train_cost: 2.1711000382900236 val_loss: 2.0388247966766357\n",
      "weight_decay: 0.1 epoch: 2 train_cost: 1.4914337754249574 val_loss: 1.4210424423217773\n",
      "weight_decay: 0.1 epoch: 3 train_cost: 1.0052982598543168 val_loss: 0.9877174496650696\n",
      "weight_decay: 0.1 epoch: 4 train_cost: 0.6814915478229523 val_loss: 0.704845130443573\n"
     ]
    }
   ],
   "source": [
    "weight_decay = [0.01, 0.05, 0.1]\n",
    "\n",
    "for i, wd in enumerate(weight_decay):\n",
    "    model = LR(2,2)\n",
    "    optimizer = optim.Adam(model.parameters(), lr=0.01, weight_decay=wd)\n",
    "    \n",
    "    for epoch in range(5):\n",
    "        train_loss = []\n",
    "        for x,y in trainloader:\n",
    "            y_hat = model(x)\n",
    "            loss = criterion(y_hat,y)\n",
    "            train_loss.append(loss.item())\n",
    "            optimizer.zero_grad()\n",
    "            loss.backward()\n",
    "            optimizer.step()\n",
    "            \n",
    "        train_cost = mean(train_loss)\n",
    "        yhat_val_predict = model(valData.x)\n",
    "        val_loss = criterion(yhat_val_predict,valData.y)\n",
    "        print(f\"weight_decay: {wd} epoch: {epoch} train_cost: {train_cost} val_loss: {val_loss}\")"
   ]
  },
  {
   "cell_type": "code",
   "execution_count": null,
   "id": "421a5395",
   "metadata": {},
   "outputs": [],
   "source": []
  }
 ],
 "metadata": {
  "kernelspec": {
   "display_name": "Python 3",
   "language": "python",
   "name": "python3"
  },
  "language_info": {
   "codemirror_mode": {
    "name": "ipython",
    "version": 3
   },
   "file_extension": ".py",
   "mimetype": "text/x-python",
   "name": "python",
   "nbconvert_exporter": "python",
   "pygments_lexer": "ipython3",
   "version": "3.8.8"
  }
 },
 "nbformat": 4,
 "nbformat_minor": 5
}
